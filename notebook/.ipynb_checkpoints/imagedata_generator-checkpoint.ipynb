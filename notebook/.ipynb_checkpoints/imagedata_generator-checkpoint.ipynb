{
 "cells": [
  {
   "cell_type": "markdown",
   "id": "d6df5065-3bea-43ce-b1e3-a1a9bebae6c3",
   "metadata": {},
   "source": [
    "git link = https://github.com/chirag-vyas1/AIML_Python_introduction.git"
   ]
  },
  {
   "cell_type": "code",
   "execution_count": 1,
   "id": "87d9f6dc-146b-4ff7-b213-85b0e5e57d0a",
   "metadata": {},
   "outputs": [],
   "source": [
    "# list of all imageg link to be converted to uploadable to Git hub\n",
    "int1= r\"E:\\5. BIO Data project\\images\\int1.JPG\"\n",
    "int2= r\"E:\\5. BIO Data project\\images\\int2.JPG\"\n",
    "chapter1=r\"E:\\5. BIO Data project\\images\\1.JPG\"\n",
    "chapter2=r\"E:\\5. BIO Data project\\images\\2.JPG\"\n",
    "chapter3=r\"E:\\5. BIO Data project\\images\\3.JPG\"\n",
    "chapter4=r\"E:\\5. BIO Data project\\images\\4.JPG\"\n",
    "chapter5=r\"E:\\5. BIO Data project\\images\\5.JPG\"\n",
    "chapter6=r\"E:\\5. BIO Data project\\images\\6.JPG\"\n",
    "chapter7=r\"E:\\5. BIO Data project\\images\\7.JPG\"\n",
    "chapter8=r\"E:\\5. BIO Data project\\images\\8.JPG\"\n",
    "chapter9=r\"E:\\5. BIO Data project\\images\\9.JPG\"\n",
    "chapter10=r\"E:\\5. BIO Data project\\images\\10.JPG\"\n",
    "chapter11=r\"E:\\5. BIO Data project\\images\\11.JPG\"\n",
    "chapter12=r\"E:\\5. BIO Data project\\images\\12.JPG\"\n",
    "chapter13=r\"E:\\5. BIO Data project\\images\\13.JPG\"\n",
    "chapter14=r\"E:\\5. BIO Data project\\images\\14.JPG\"\n",
    "chapter15=r\"E:\\5. BIO Data project\\images\\15.JPG\"\n",
    "chapter16=r\"E:\\5. BIO Data project\\images\\16.JPG\"\n",
    "chapter17=r\"E:\\5. BIO Data project\\images\\17.JPG\"\n",
    "chapter18=r\"E:\\5. BIO Data project\\images\\18.JPG\"\n",
    "chapter19=r\"E:\\5. BIO Data project\\images\\19.JPG\"\n",
    "chapter20=r\"E:\\5. BIO Data project\\images\\20.JPG\"\n",
    "chapter21=r\"E:\\5. BIO Data project\\images\\21.JPG\"\n",
    "chapter22=r\"E:\\5. BIO Data project\\images\\22.JPG\"\n",
    "chapter23=r\"E:\\5. BIO Data project\\images\\23.JPG\"\n",
    "chapter24=r\"E:\\5. BIO Data project\\images\\24.JPG\"\n",
    "chapter25=r\"E:\\5. BIO Data project\\images\\25.JPG\"\n",
    "chapter26=r\"E:\\5. BIO Data project\\images\\26.JPG\"\n",
    "chapter27=r\"E:\\5. BIO Data project\\images\\27.JPG\"\n",
    "chapter28=r\"E:\\5. BIO Data project\\images\\28.JPG\"\n",
    "chapter29=r\"E:\\5. BIO Data project\\images\\29.JPG\"\n",
    "book11=r\"E:\\5. BIO Data project\\images\\book11.JPG\""
   ]
  },
  {
   "cell_type": "code",
   "execution_count": 2,
   "id": "f56ed106-0b16-4953-ab6b-998c2327b52f",
   "metadata": {},
   "outputs": [
    {
     "name": "stdout",
     "output_type": "stream",
     "text": [
      "![1.jpg](data:image/jpeg;base64,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)\n"
     ]
    }
   ],
   "source": [
    "from IPython.display import display, Image\n",
    "import base64\n",
    "\n",
    "# If the image is already attached to the notebook, use:\n",
    "with open(\"1.jpg\", \"wb\") as f:\n",
    "    f.write(Image(filename=book11).data)\n",
    "\n",
    "# Convert to base64\n",
    "with open(\"1.jpg\", \"rb\") as f:\n",
    "    base64_data = base64.b64encode(f.read()).decode(\"utf-8\")\n",
    "\n",
    "# Your ready-to-use Markdown line (copy this output)\n",
    "print(f'![1.jpg](data:image/jpeg;base64,{base64_data})')"
   ]
  },
  {
   "cell_type": "code",
   "execution_count": null,
   "id": "f5cad0c6-b768-40e2-b5b7-8b3a8f58a9e3",
   "metadata": {},
   "outputs": [],
   "source": []
  },
  {
   "cell_type": "code",
   "execution_count": null,
   "id": "6e65ca7c-393f-42af-a97d-219f97d7d5a6",
   "metadata": {},
   "outputs": [],
   "source": []
  }
 ],
 "metadata": {
  "kernelspec": {
   "display_name": "Python 3 (ipykernel)",
   "language": "python",
   "name": "python3"
  },
  "language_info": {
   "codemirror_mode": {
    "name": "ipython",
    "version": 3
   },
   "file_extension": ".py",
   "mimetype": "text/x-python",
   "name": "python",
   "nbconvert_exporter": "python",
   "pygments_lexer": "ipython3",
   "version": "3.11.7"
  }
 },
 "nbformat": 4,
 "nbformat_minor": 5
}
